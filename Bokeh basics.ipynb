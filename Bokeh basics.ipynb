{
 "cells": [
  {
   "cell_type": "code",
   "execution_count": 5,
   "metadata": {},
   "outputs": [
    {
     "name": "stdout",
     "output_type": "stream",
     "text": [
      "Collecting bokeh\n",
      "  Using cached https://files.pythonhosted.org/packages/30/cf/9bef843880084b646cf5e6988e8f0aa081dccdf09f1617cfc6755f9a3353/bokeh-2.0.2.tar.gz\n",
      "Collecting PyYAML>=3.10 (from bokeh)\n",
      "\u001b[?25l  Downloading https://files.pythonhosted.org/packages/64/c2/b80047c7ac2478f9501676c988a5411ed5572f35d1beff9cae07d321512c/PyYAML-5.3.1.tar.gz (269kB)\n",
      "\u001b[K    100% |████████████████████████████████| 276kB 7.4MB/s ta 0:00:01\n",
      "\u001b[?25hRequirement already satisfied: python-dateutil>=2.1 in /home/bence/miniconda3/lib/python3.7/site-packages (from bokeh) (2.8.1)\n",
      "Requirement already satisfied: Jinja2>=2.7 in /home/bence/miniconda3/lib/python3.7/site-packages (from bokeh) (2.11.1)\n",
      "Requirement already satisfied: numpy>=1.11.3 in /home/bence/miniconda3/lib/python3.7/site-packages (from bokeh) (1.18.1)\n",
      "Requirement already satisfied: pillow>=4.0 in /home/bence/miniconda3/lib/python3.7/site-packages (from bokeh) (6.0.0)\n",
      "Requirement already satisfied: packaging>=16.8 in /home/bence/miniconda3/lib/python3.7/site-packages (from bokeh) (20.1)\n",
      "Requirement already satisfied: tornado>=5 in /home/bence/miniconda3/lib/python3.7/site-packages (from bokeh) (6.0.3)\n",
      "Collecting typing_extensions>=3.7.4 (from bokeh)\n",
      "  Downloading https://files.pythonhosted.org/packages/0c/0e/3f026d0645d699e7320b59952146d56ad7c374e9cd72cd16e7c74e657a0f/typing_extensions-3.7.4.2-py3-none-any.whl\n",
      "Requirement already satisfied: six>=1.5 in /home/bence/miniconda3/lib/python3.7/site-packages (from python-dateutil>=2.1->bokeh) (1.12.0)\n",
      "Requirement already satisfied: MarkupSafe>=0.23 in /home/bence/miniconda3/lib/python3.7/site-packages (from Jinja2>=2.7->bokeh) (1.1.1)\n",
      "Requirement already satisfied: pyparsing>=2.0.2 in /home/bence/miniconda3/lib/python3.7/site-packages (from packaging>=16.8->bokeh) (2.4.6)\n",
      "Building wheels for collected packages: bokeh, PyYAML\n",
      "  Running setup.py bdist_wheel for bokeh ... \u001b[?25ldone\n",
      "\u001b[?25h  Stored in directory: /home/bence/.cache/pip/wheels/a3/5e/7d/49405a043a4714a1b66bb7a16dfe16a1f0db9217baac7c4fe3\n",
      "  Running setup.py bdist_wheel for PyYAML ... \u001b[?25ldone\n",
      "\u001b[?25h  Stored in directory: /home/bence/.cache/pip/wheels/a7/c1/ea/cf5bd31012e735dc1dfea3131a2d5eae7978b251083d6247bd\n",
      "Successfully built bokeh PyYAML\n",
      "Installing collected packages: PyYAML, typing-extensions, bokeh\n",
      "Successfully installed PyYAML-5.3.1 bokeh-2.0.2 typing-extensions-3.7.4.2\n"
     ]
    }
   ],
   "source": [
    "!pip install bokeh"
   ]
  },
  {
   "cell_type": "code",
   "execution_count": 2,
   "metadata": {},
   "outputs": [],
   "source": [
    "from bokeh.plotting import figure\n",
    "from bokeh.io import output_file, show"
   ]
  },
  {
   "cell_type": "code",
   "execution_count": 4,
   "metadata": {},
   "outputs": [],
   "source": [
    "x = list(range(5))\n",
    "y = list(range(5,10))\n",
    "\n",
    "output_file(\"triangle.html\")\n",
    "f = figure()\n",
    "f.triangle(x,y)\n",
    "show(f)"
   ]
  },
  {
   "cell_type": "code",
   "execution_count": null,
   "metadata": {},
   "outputs": [],
   "source": []
  }
 ],
 "metadata": {
  "kernelspec": {
   "display_name": "Python 3",
   "language": "python",
   "name": "python3"
  },
  "language_info": {
   "codemirror_mode": {
    "name": "ipython",
    "version": 3
   },
   "file_extension": ".py",
   "mimetype": "text/x-python",
   "name": "python",
   "nbconvert_exporter": "python",
   "pygments_lexer": "ipython3",
   "version": "3.6.8"
  }
 },
 "nbformat": 4,
 "nbformat_minor": 4
}
